{
 "cells": [
  {
   "cell_type": "code",
   "execution_count": 3,
   "metadata": {},
   "outputs": [],
   "source": [
    "import json\n",
    "import os\n",
    "import re"
   ]
  },
  {
   "cell_type": "code",
   "execution_count": 47,
   "metadata": {},
   "outputs": [
    {
     "name": "stdout",
     "output_type": "stream",
     "text": [
      "Singularity-2017-11-24-Robert Kouba.json Singularity\n",
      "Jeepers Creepers III-2017-11-02-Victor Salva.json Jeepers Creepers III\n",
      "Hindi Medium-2017-05-19-Saket Chaudhary.json Hindi Medium\n",
      "Whisper of the Heart-2017-06-24-Siyang Li.json Whisper of the Heart\n",
      "G.O.R.A.-2017-03-10-Ömer Faruk Sorak.json G.O.R.A.\n",
      "Fifty Shades Darker-2017-02-10-James Foley.json Fifty Shades Darker\n",
      "Beauty and the Beast-2017-03-17-Bill Condon.json Beauty and the Beast\n",
      "Loving Vincent-2017-09-22-Dorota Kobiela.json Loving Vincent\n",
      "The Invisible Guest-2017-01-06-Oriol Paulo.json The Invisible Guest\n",
      "Wonder-2017-11-17-Stephen Chbosky.json Wonder\n",
      "Tubelight-2017-06-23-Kabir Khan.json Tubelight\n",
      "Wind River-2017-08-18-Taylor Sheridan.json Wind River\n",
      "Your Name.-2017-04-07-Makoto Shinkai.json Your Name.\n",
      "The Emoji Movie-2017-07-28-Tony Leondis.json The Emoji Movie\n",
      "I, Daniel Blake-2017-06-09-Ken Loach.json I, Daniel Blake\n",
      "Guardians of the Galaxy Vol. 2-2017-05-05-James Gunn.json Guardians of the Galaxy Vol. 2\n",
      "Logan-2017-03-03-James Mangold.json Logan\n",
      "Thor-- Ragnarok-2017-11-03-Taika Waititi.json Thor: Ragnarok\n",
      "Baahubali 2-- The Conclusion-2017-04-28-S.S. Rajamouli.json Baahubali 2: The Conclusion\n",
      "Blade Runner 2049-2017-10-06-Denis Villeneuve.json Blade Runner 2049\n",
      "Judwaa 2-2017-09-29-David Dhawan.json Judwaa 2\n",
      "Get Out-2017-02-24-Jordan Peele.json Get Out\n",
      "Recep Ivedik 5-2017-02-16-Togan Gökbakar.json Recep Ivedik 5\n",
      "Hidden Figures-2017-01-06-Theodore Melfi.json Hidden Figures\n",
      "My Life as a Zucchini-2017-02-24-Claude Barras.json My Life as a Zucchini\n",
      "Dunkirk-2017-07-21-Christopher Nolan.json Dunkirk\n",
      "The Breadwinner-2017-11-17-Nora Twomey.json The Breadwinner\n",
      "Coco-2017-11-22-Lee Unkrich.json Coco\n",
      "Three Billboards Outside Ebbing, Missouri-2017-12-01-Martin McDonagh.json Three Billboards Outside Ebbing, Missouri\n",
      "A Taxi Driver-2017-08-11-Hun Jang.json A Taxi Driver\n",
      "Ayla-- The Daughter of War-2017-10-27-Can Ulkay.json Ayla: The Daughter of War\n",
      "The Bye Bye Man-2017-01-13-Stacy Title.json The Bye Bye Man\n",
      "Ghost in the Shell-2017-03-31-Rupert Sanders.json Ghost in the Shell\n"
     ]
    }
   ],
   "source": [
    "files = []\n",
    "subdir = tuple(os.walk(\"./MergedData/merged_movie_jsons/2017\"))\n",
    "for file_name in tuple(subdir)[0][-1]:\n",
    "    # with open(f\"{subdir[0][0]}/{file_name}\", 'r') as f:\n",
    "    #     files.append(json.load(f))\n",
    "    name = re.search(r\"(.*)-\\d\\d\\d\\d-\\d\\d-\\d\\d-(.*)\\.json\", file_name)\n",
    "    if name:\n",
    "        title = name.groups()[0]\n",
    "        title = re.sub(r\"--\", r\":\", title)\n",
    "        title = re.sub(r\"(question_mark)\", r\"?\", title)\n",
    "        title = re.sub(r\"(slash)\", r\"/\", title)\n",
    "        title = re.sub(r\"(comma)\", r\",\", title)\n",
    "    print(file_name, title)\n",
    "    # break"
   ]
  }
 ],
 "metadata": {
  "kernelspec": {
   "display_name": "Python 3",
   "language": "python",
   "name": "python3"
  },
  "language_info": {
   "codemirror_mode": {
    "name": "ipython",
    "version": 3
   },
   "file_extension": ".py",
   "mimetype": "text/x-python",
   "name": "python",
   "nbconvert_exporter": "python",
   "pygments_lexer": "ipython3",
   "version": "3.11.0"
  },
  "orig_nbformat": 4
 },
 "nbformat": 4,
 "nbformat_minor": 2
}
