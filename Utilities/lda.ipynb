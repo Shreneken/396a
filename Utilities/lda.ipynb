{
 "cells": [
  {
   "cell_type": "code",
   "execution_count": null,
   "metadata": {},
   "outputs": [],
   "source": [
    "import spacy\n",
    "import json\n",
    "import os\n",
    "from nltk.corpus import stopwords"
   ]
  },
  {
   "cell_type": "code",
   "execution_count": null,
   "metadata": {},
   "outputs": [],
   "source": [
    "files = []\n",
    "subdir = tuple(os.walk(\"../imdb/imdb_movie_jsons/1997\"))\n",
    "for file_name in tuple(subdir)[0][-1]:\n",
    "    with open(f\"{subdir[0][0]}/{file_name}\", 'r') as f:\n",
    "        files.append(json.load(f))"
   ]
  },
  {
   "cell_type": "code",
   "execution_count": null,
   "metadata": {},
   "outputs": [],
   "source": [
    "corpus = []\n",
    "my_pos = set([\"ADJ\"])\n",
    "nlp = spacy.load(\"en_core_web_sm\")\n",
    "nlp.max_length = 50_000_000\n",
    "for file in files[::-1]:\n",
    "    print(file)\n",
    "    clean = []\n",
    "    content = [review[\"content\"] for review in file[\"reviews\"]]\n",
    "    for c in content:\n",
    "        string = nlp(c)\n",
    "        for word in string:\n",
    "            if word.pos_ == \"ADJ\":\n",
    "                clean.append(word.lemma_)\n",
    "        corpus.append(\" \".join(clean))\n",
    "    # corpus = clean\n",
    "    break"
   ]
  },
  {
   "cell_type": "code",
   "execution_count": null,
   "metadata": {},
   "outputs": [],
   "source": []
  }
 ],
 "metadata": {
  "kernelspec": {
   "display_name": "Python 3",
   "language": "python",
   "name": "python3"
  },
  "language_info": {
   "codemirror_mode": {
    "name": "ipython",
    "version": 3
   },
   "file_extension": ".py",
   "mimetype": "text/x-python",
   "name": "python",
   "nbconvert_exporter": "python",
   "pygments_lexer": "ipython3",
   "version": "3.11.0"
  },
  "orig_nbformat": 4
 },
 "nbformat": 4,
 "nbformat_minor": 2
}
