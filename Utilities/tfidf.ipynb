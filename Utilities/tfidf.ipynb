{
 "cells": [
  {
   "cell_type": "code",
   "execution_count": null,
   "metadata": {},
   "outputs": [],
   "source": [
    "import spacy\n",
    "import json\n",
    "import os\n",
    "from nltk.corpus import stopwords\n",
    "import pandas as pd\n",
    "import gensim\n",
    "import gensim.corpora as corpora\n",
    "import re\n",
    "import contractions"
   ]
  },
  {
   "attachments": {},
   "cell_type": "markdown",
   "metadata": {},
   "source": [
    "files = []\n",
    "for movie_year in tuple(os.walk(\"../imdb/imdb_movie_jsons\"))[0][1]:\n",
    "    subdir = tuple(os.walk(f\"../imdb/imdb_movie_jsons/{movie_year}\"))\n",
    "    for file_name in tuple(subdir)[0][-1]:\n",
    "        # print(f\"{subdir[0][0]}/{file_name}\")\n",
    "        with open(f\"{subdir[0][0]}/{file_name}\", 'r', encoding=\"utf-8\") as f:\n",
    "            files.append(json.load(f))"
   ]
  },
  {
   "cell_type": "code",
   "execution_count": null,
   "metadata": {},
   "outputs": [],
   "source": [
    "files = []\n",
    "subdir = tuple(os.walk(\"../imdb/imdb_movie_jsons/1990\"))\n",
    "for file_name in tuple(subdir)[0][-1]:\n",
    "    with open(f\"{subdir[0][0]}/{file_name}\", 'r') as f:\n",
    "        files.append(json.load(f))"
   ]
  },
  {
   "cell_type": "code",
   "execution_count": null,
   "metadata": {},
   "outputs": [],
   "source": [
    "corpus = []\n",
    "my_pos = set([\"ADJ\", \"ADV\",])\n",
    "nlp = spacy.load(\"en_core_web_sm\")\n",
    "# nlp.max_length = 50_000_000\n",
    "for file in files[10::]:\n",
    "    content = [review[\"content\"] for review in file[\"reviews\"]]\n",
    "    for review in content:\n",
    "        string = nlp(review)\n",
    "        clean = []\n",
    "        for word in string:\n",
    "            if word.pos_ in my_pos:\n",
    "                clean.append(str(word.lemma_))\n",
    "        corpus.append(\" \".join(clean))\n",
    "    # corpus = clean\n",
    "    break"
   ]
  },
  {
   "cell_type": "code",
   "execution_count": null,
   "metadata": {},
   "outputs": [],
   "source": [
    "# corpus\n",
    "# remove non english words again\n",
    "# remove numbers\n",
    "# remove words shorted than 3 letters\n",
    "# remove punctuations"
   ]
  },
  {
   "cell_type": "code",
   "execution_count": null,
   "metadata": {},
   "outputs": [],
   "source": [
    "with open(\"../stopwords.json\", \"r\") as stops:\n",
    "    stopwords = json.load(stops)\n",
    "def clean(text: str):\n",
    "    # remove numbers\n",
    "    text = re.sub(r\"\\d+\", \"\", text)\n",
    "    # expand contraction\n",
    "    text = contractions.fix(text)\n",
    "    # remove links\n",
    "    text = re.sub(r\"(ftp|http[s]?)://\\S+\", \"\", text)\n",
    "    # remove punctuations\n",
    "    sub_txt = r\"[\" + re.escape(string.punctuation) + r\"]\"\n",
    "    text = re.sub(sub_txt, \"\", text)\n",
    "    text = \" \".join([word for word in text.split() if word not in stopwords])\n",
    "\n",
    "    return text.strip()"
   ]
  },
  {
   "cell_type": "code",
   "execution_count": null,
   "metadata": {},
   "outputs": [],
   "source": [
    "proc_data = [clean(string.split()) for string in corpus]\n",
    "input_dict = corpora.Dictionary(proc_data)\n",
    "input_corpus = [input_dict.doc2bow(token, allow_update=True) for token in proc_data]"
   ]
  },
  {
   "cell_type": "code",
   "execution_count": null,
   "metadata": {},
   "outputs": [],
   "source": [
    "model = gensim.models.TfidfModel(input_corpus, id2word=input_dict)\n",
    "vector = model[input_corpus]"
   ]
  },
  {
   "cell_type": "code",
   "execution_count": null,
   "metadata": {},
   "outputs": [],
   "source": [
    "d = {}\n",
    "for v in vector:\n",
    "    for id, f in v:\n",
    "        d[input_dict[id]] = f\n",
    "    # break"
   ]
  },
  {
   "cell_type": "code",
   "execution_count": null,
   "metadata": {},
   "outputs": [],
   "source": [
    "df = pd.DataFrame(d.values(), index=d.keys(), columns=[\"TF-IDF\"])\n",
    "df = df.sort_values('TF-IDF', ascending=False)\n",
    "print(d.keys())"
   ]
  },
  {
   "cell_type": "code",
   "execution_count": null,
   "metadata": {},
   "outputs": [],
   "source": [
    "with pd.option_context('display.max_rows', None,\n",
    "                       'display.max_columns', None,\n",
    "                       'display.precision', 3,\n",
    "                       ):\n",
    "    print(df)"
   ]
  }
 ],
 "metadata": {
  "kernelspec": {
   "display_name": "Python 3",
   "language": "python",
   "name": "python3"
  },
  "language_info": {
   "codemirror_mode": {
    "name": "ipython",
    "version": 3
   },
   "file_extension": ".py",
   "mimetype": "text/x-python",
   "name": "python",
   "nbconvert_exporter": "python",
   "pygments_lexer": "ipython3",
   "version": "3.11.0"
  },
  "orig_nbformat": 4
 },
 "nbformat": 4,
 "nbformat_minor": 2
}
