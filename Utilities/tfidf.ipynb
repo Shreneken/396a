{
 "cells": [
  {
   "cell_type": "code",
   "execution_count": 1,
   "metadata": {},
   "outputs": [],
   "source": [
    "import spacy\n",
    "import json\n",
    "import os\n",
    "from nltk.corpus import stopwords, words\n",
    "import pandas as pd\n",
    "import gensim\n",
    "import gensim.corpora as corpora\n",
    "import re\n",
    "import contractions\n",
    "import string"
   ]
  },
  {
   "cell_type": "code",
   "execution_count": 48,
   "metadata": {},
   "outputs": [],
   "source": [
    "files = []\n",
    "subdir = tuple(os.walk(\"../MergedData/merged_movie_jsons/2014\"))\n",
    "for file_name in tuple(subdir)[0][-1]:\n",
    "    with open(f\"{subdir[0][0]}/{file_name}\", 'r') as f:\n",
    "        files.append(json.load(f))"
   ]
  },
  {
   "cell_type": "code",
   "execution_count": 49,
   "metadata": {},
   "outputs": [],
   "source": [
    "corpus = []\n",
    "my_pos = set([\"ADJ\"])\n",
    "nlp = spacy.load(\"en_core_web_lg\") #python -m spacy download en_core_web_lg\n",
    "\n",
    "\n",
    "for file in files:\n",
    "    if file[\"title\"] != \"Captain America: The Winter Soldier\":\n",
    "        continue\n",
    "    content = [review[\"content\"] for review in file[\"reviews\"]]\n",
    "    for review in content:\n",
    "        s = nlp(review)\n",
    "        clean = []\n",
    "        for word in s:\n",
    "            if word.pos_ in my_pos:\n",
    "                clean.append(str(word.lemma_))\n",
    "        corpus.append(\" \".join(clean))\n",
    "    break"
   ]
  },
  {
   "cell_type": "code",
   "execution_count": 50,
   "metadata": {},
   "outputs": [],
   "source": [
    "# corpus\n",
    "# remove non english words again\n",
    "# remove numbers\n",
    "# remove words shorted than 3 letters\n",
    "# remove punctuations\n",
    "# print(type(stopwords.words(\"english\")))"
   ]
  },
  {
   "cell_type": "code",
   "execution_count": 51,
   "metadata": {},
   "outputs": [],
   "source": [
    "with open(\"../stopwords.json\", \"r\") as f:\n",
    "    common = json.load(f)\n",
    "    common.extend(stopwords.words(\"english\"))\n",
    "    common = set(common)\n",
    "\n",
    "\n",
    "eng_words = set(words.words())\n",
    "\n",
    "def clean(text: str):\n",
    "    \n",
    "    # remove numbers\n",
    "    text = re.sub(r\"\\d+\", \"\", text)\n",
    "    # expand contraction\n",
    "    text = contractions.fix(text)\n",
    "    # remove links\n",
    "    text = re.sub(r\"(ftp|http[s]?)://\\S+\", \"\", text)\n",
    "    # remove punctuations\n",
    "    sub_txt = r\"[\" + re.escape(string.punctuation) + r\"]\"\n",
    "    text = re.sub(sub_txt, \"\", text)\n",
    "\n",
    "    text = re.sub(\"[^a-zA-Z0-9 ]+\", \" \", text)\n",
    "\n",
    "    # remove emails\n",
    "    text = re.sub(\"[\\w\\.-]+@[\\w\\.-]+\\.\\w+\", \" \", text)\n",
    "    \n",
    "    text = \" \".join([word for word in text.split() if word not in common and word in eng_words and len(word) > 2])\n",
    "\n",
    "     # remove multispaces\n",
    "    text = re.sub('\\s+', \" \", text)\n",
    "\n",
    "    # lemmatizer.lemmatize()\n",
    "    return text.strip()"
   ]
  },
  {
   "cell_type": "code",
   "execution_count": 52,
   "metadata": {},
   "outputs": [],
   "source": [
    "proc_data = [clean(movie_revs).split() for movie_revs in corpus]\n",
    "input_dict = corpora.Dictionary(proc_data)\n",
    "input_corpus = [input_dict.doc2bow(token, allow_update=True) for token in proc_data]"
   ]
  },
  {
   "cell_type": "code",
   "execution_count": 53,
   "metadata": {},
   "outputs": [],
   "source": [
    "model = gensim.models.TfidfModel(input_corpus, id2word=input_dict,  normalize=True, dictionary=input_dict, slope=2.5, smartirs=\"Lfc\")\n",
    "vector = model[input_corpus]"
   ]
  },
  {
   "cell_type": "code",
   "execution_count": 54,
   "metadata": {},
   "outputs": [
    {
     "name": "stderr",
     "output_type": "stream",
     "text": [
      "/Library/Frameworks/Python.framework/Versions/3.11/lib/python3.11/site-packages/gensim/models/tfidfmodel.py:180: RuntimeWarning: Mean of empty slice.\n",
      "  return (1 + np.log2(tf)) / (1 + np.log2(tf.mean(axis=0)))\n",
      "/Library/Frameworks/Python.framework/Versions/3.11/lib/python3.11/site-packages/numpy/core/_methods.py:190: RuntimeWarning: invalid value encountered in double_scalars\n",
      "  ret = ret.dtype.type(ret / rcount)\n"
     ]
    }
   ],
   "source": [
    "d = {}\n",
    "for v in vector:\n",
    "    for id, f in v:\n",
    "        d[input_dict[id]] = f"
   ]
  },
  {
   "cell_type": "code",
   "execution_count": 55,
   "metadata": {},
   "outputs": [],
   "source": [
    "df = pd.DataFrame(d.values(), index=d.keys(), columns=[\"TF-IDF\"])\n",
    "df = df.sort_values('TF-IDF', ascending=False)"
   ]
  },
  {
   "cell_type": "code",
   "execution_count": 56,
   "metadata": {},
   "outputs": [],
   "source": [
    "# with pd.option_context('display.max_rows', None,\n",
    "#                        'display.max_columns', None,\n",
    "#                        'display.precision', 3,\n",
    "#                        ):\n",
    "#     print(df[\"TF-IDF\"].between(0.8 * df[\"TF-IDF\"].median(), 1.05 * df[\"TF-IDF\"].median(), inclusive=True))\n",
    "    # pass"
   ]
  },
  {
   "cell_type": "code",
   "execution_count": 57,
   "metadata": {},
   "outputs": [],
   "source": [
    "# kmeans = KMeans(n_clusters=100, init=\"k-means++\", n_init=10000)\n",
    "# vect = TfidfVectorizer(stop_words=\"english\")\n",
    "# features = vect.fit_transform([ \" \".join(data) for data in proc_data])\n",
    "# kmeans.fit(features)"
   ]
  },
  {
   "cell_type": "code",
   "execution_count": 58,
   "metadata": {},
   "outputs": [],
   "source": [
    "# df2 = pd.DataFrame(corpus)\n",
    "# df2[\"clusters\"] = kmeans.labels_\n",
    "# df2"
   ]
  },
  {
   "cell_type": "code",
   "execution_count": 59,
   "metadata": {},
   "outputs": [],
   "source": [
    "# print(\"Cluster centrojds: \\n\")\n",
    "# order_centroids = kmeans.cluster_centers_.argsort()[:, ::-1]\n",
    "# terms = vect.get_feature_names_out()\n",
    "# for i in range (100):\n",
    "#     print(\"cluster %d:\" % i)\n",
    "#     for j in order_centroids[i, :10]: #print out 10 feature terms of each cluster\n",
    "#         print(' %s ' % terms [j])"
   ]
  },
  {
   "cell_type": "code",
   "execution_count": 64,
   "metadata": {},
   "outputs": [
    {
     "data": {
      "text/plain": [
       "{'absolutist',\n",
       " 'accessible',\n",
       " 'always',\n",
       " 'ashamed',\n",
       " 'captive',\n",
       " 'catchy',\n",
       " 'connective',\n",
       " 'controversial',\n",
       " 'countless',\n",
       " 'crisp',\n",
       " 'crooked',\n",
       " 'customary',\n",
       " 'damn',\n",
       " 'deceptive',\n",
       " 'delightful',\n",
       " 'displeased',\n",
       " 'dissimilar',\n",
       " 'due',\n",
       " 'dynamic',\n",
       " 'elementary',\n",
       " 'encyclopedic',\n",
       " 'enthralling',\n",
       " 'exceptional',\n",
       " 'flat',\n",
       " 'fleshed',\n",
       " 'forward',\n",
       " 'frenetic',\n",
       " 'fundamental',\n",
       " 'goofy',\n",
       " 'grave',\n",
       " 'gross',\n",
       " 'grotesque',\n",
       " 'hopeless',\n",
       " 'hostile',\n",
       " 'immediate',\n",
       " 'invisible',\n",
       " 'knowing',\n",
       " 'later',\n",
       " 'lovely',\n",
       " 'magical',\n",
       " 'massive',\n",
       " 'meaningless',\n",
       " 'mighty',\n",
       " 'mysterious',\n",
       " 'parallel',\n",
       " 'past',\n",
       " 'pointless',\n",
       " 'polish',\n",
       " 'predictable',\n",
       " 'quirky',\n",
       " 'running',\n",
       " 'savvy',\n",
       " 'slow',\n",
       " 'stationary',\n",
       " 'tad',\n",
       " 'terrific',\n",
       " 'thoroughbred',\n",
       " 'tiny',\n",
       " 'traitorous',\n",
       " 'unhelpful',\n",
       " 'unspoken',\n",
       " 'useless',\n",
       " 'wanton',\n",
       " 'welcome'}"
      ]
     },
     "execution_count": 64,
     "metadata": {},
     "output_type": "execute_result"
    }
   ],
   "source": [
    "med = df[\"TF-IDF\"].median()\n",
    "mean = df[\"TF-IDF\"].mean()\n",
    "vibes = set()\n",
    "mean = df[\"TF-IDF\"].quantile(.9)\n",
    "# d = {k: v for k, v in sorted(d.items(), key=lambda item: item[1], reverse=True)}\n",
    "for k, v in d.items():\n",
    "    if 0.95 *  mean <= v <=  1.05 * mean:\n",
    "        vibes.add(k)\n",
    "vibes\n",
    "# print(file[\"title\"])"
   ]
  },
  {
   "cell_type": "code",
   "execution_count": 61,
   "metadata": {},
   "outputs": [],
   "source": [
    "# cnt = {}\n",
    "# for sent in corpus:\n",
    "#     sent = clean(sent)\n",
    "#     for word in set(sent.split()):\n",
    "#         cnt[word] = cnt.get(word, 0) + 1\n",
    "\n",
    "# cnt = {k: v for k, v in sorted(cnt.items(), key=lambda item: item[1], reverse=True)}\n",
    "\n",
    "# for c in cnt:\n",
    "#     print(c, cnt[c])"
   ]
  }
 ],
 "metadata": {
  "kernelspec": {
   "display_name": "Python 3",
   "language": "python",
   "name": "python3"
  },
  "language_info": {
   "codemirror_mode": {
    "name": "ipython",
    "version": 3
   },
   "file_extension": ".py",
   "mimetype": "text/x-python",
   "name": "python",
   "nbconvert_exporter": "python",
   "pygments_lexer": "ipython3",
   "version": "3.11.3"
  },
  "orig_nbformat": 4
 },
 "nbformat": 4,
 "nbformat_minor": 2
}
