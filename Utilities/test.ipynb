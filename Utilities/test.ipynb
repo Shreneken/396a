{
 "cells": [
  {
   "cell_type": "code",
   "execution_count": 53,
   "metadata": {},
   "outputs": [],
   "source": [
    "import spacy\n",
    "import json\n",
    "import os\n",
    "from nltk.corpus import stopwords\n",
    "import pandas as pd\n",
    "import gensim\n",
    "import gensim.corpora as corpora\n",
    "import collections"
   ]
  },
  {
   "cell_type": "code",
   "execution_count": null,
   "metadata": {},
   "outputs": [],
   "source": [
    "# files = []\n",
    "# subdir = tuple(os.walk(\"../imdb/imdb_movie_jsons/1990\"))\n",
    "# for file_name in tuple(subdir)[0][-1]:\n",
    "#     with open(f\"{subdir[0][0]}/{file_name}\", 'r') as f:\n",
    "#         files.append(json.load(f))"
   ]
  },
  {
   "cell_type": "code",
   "execution_count": null,
   "metadata": {},
   "outputs": [],
   "source": [
    "# ner = spacy.load(\"en_core_web_sm\")\n",
    "# test = \"Speed was a surprise hit movie. While it cost about $30,000,000 to make, it made back more than four times the cost. So, some Hollywood executives (with a collective IQ similar to that of a gerbil) thought...'if we do a sequel, we must spend $120,000,000 on it because THAT is why the first movie was such a success'. Not surprisingly, the movie tanked and it somehow has made it to IMDB's infamous Bottom 100 list the 100 worst ranked major releases of all time.In the original, Keanu Reeves and Sandra Bullock work to prevent a bus from exploding and killing folks. Now, because this is an overbloated sequel, they've placed the story aboard a cruise ship...which is also out of control and will kill everyone unless our heroes save it....though this time Reeves refused to reprise his role. So, they cast the rather bland Jason Patric in the lead...who offered little improvement other than he was very good at using sign language in one small scene.How bad is this film? Well, not bad enough to be on the Bottom 100 list. So why is it on the list? After loving the first film, so many folks expected more of the same...and got nothing but a dull overblown action picture with little in the way to interest viewers....and I think THAT is why it made the list....because it disappointed so badly. Instead, I wish IMDB had a list for films with the worst ratio of cost to enjoyability of the film...in which case \\\"Speed 2\\\" would easily make the top 100.By the way, this sequel ended up spending nearly as much for ONE crash scene as the budget for all of \\\"Speed\\\"! And, after paying $11,500,000 just to obtain Sandra Bullock for this film, you can only assume that the film simply had nothing left to pay competent writers. Instead, I assume, they hired some penguins to write the script....some very, very dull and untalented penguins!\"\n",
    "# doc = ner(test)\n",
    "# for ent in doc.ents:\n",
    "#     print(f\"{ent.text} {ent.label} {str (spacy.explain(ent.label_))}\")"
   ]
  },
  {
   "cell_type": "code",
   "execution_count": null,
   "metadata": {},
   "outputs": [],
   "source": [
    "\n",
    "with open(\"../stopwords_list.txt\", 'r') as f:\n",
    "    vibes = f.readlines()"
   ]
  },
  {
   "cell_type": "code",
   "execution_count": null,
   "metadata": {},
   "outputs": [],
   "source": [
    "nlp = spacy.load(\"en_core_web_sm\")\n",
    "corpus = []\n",
    "for vibe in vibes:\n",
    "    vibe_per_movie = nlp(vibe)\n",
    "    clean = []\n",
    "    for word in vibe_per_movie:\n",
    "        if word.pos_ == \"ADJ\":\n",
    "            clean.append(str(word.lemma_))\n",
    "    corpus.append(\" \".join(clean).strip())\n"
   ]
  },
  {
   "cell_type": "code",
   "execution_count": null,
   "metadata": {},
   "outputs": [],
   "source": [
    "corpus"
   ]
  },
  {
   "cell_type": "code",
   "execution_count": null,
   "metadata": {},
   "outputs": [],
   "source": [
    "corpus = [s for s in corpus if len(s) > 3]\n",
    "corpus"
   ]
  },
  {
   "cell_type": "code",
   "execution_count": null,
   "metadata": {},
   "outputs": [],
   "source": [
    "proc_data = [string.split() for string in corpus]\n",
    "input_dict = corpora.Dictionary(proc_data)\n",
    "input_corpus = [input_dict.doc2bow(token, allow_update=True) for token in proc_data]"
   ]
  },
  {
   "cell_type": "code",
   "execution_count": null,
   "metadata": {},
   "outputs": [],
   "source": [
    "model = gensim.models.TfidfModel(input_corpus, id2word=input_dict)\n",
    "vector = model[input_corpus]"
   ]
  },
  {
   "cell_type": "code",
   "execution_count": null,
   "metadata": {},
   "outputs": [],
   "source": [
    "d = {}\n",
    "for v in vector:\n",
    "    for id, f in v:\n",
    "        d[input_dict[id]] = f"
   ]
  },
  {
   "cell_type": "code",
   "execution_count": null,
   "metadata": {},
   "outputs": [],
   "source": [
    "df = pd.DataFrame(d.values(), index=d.keys(), columns=[\"TF-IDF\"])\n",
    "df = df.sort_values('TF-IDF', ascending=False)"
   ]
  },
  {
   "cell_type": "code",
   "execution_count": null,
   "metadata": {},
   "outputs": [],
   "source": [
    "with pd.option_context('display.max_rows', None,\n",
    "                       'display.max_columns', None,\n",
    "                       'display.precision', 3,\n",
    "                       ):\n",
    "    print(df)"
   ]
  },
  {
   "cell_type": "code",
   "execution_count": 55,
   "metadata": {},
   "outputs": [],
   "source": [
    "a = []\n",
    "for word in corpus:\n",
    "    a.extend(word.split())\n",
    "# print(words)\n",
    "a = dict(collections.Counter(a))\n",
    "with open(\"../stopwords.json\", \"w\") as stopwords:\n",
    "    json.dump([k for k,v in a.items() if v >= 1125], stopwords)"
   ]
  },
  {
   "cell_type": "code",
   "execution_count": null,
   "metadata": {},
   "outputs": [],
   "source": []
  }
 ],
 "metadata": {
  "kernelspec": {
   "display_name": "Python 3",
   "language": "python",
   "name": "python3"
  },
  "language_info": {
   "codemirror_mode": {
    "name": "ipython",
    "version": 3
   },
   "file_extension": ".py",
   "mimetype": "text/x-python",
   "name": "python",
   "nbconvert_exporter": "python",
   "pygments_lexer": "ipython3",
   "version": "3.11.3"
  },
  "orig_nbformat": 4
 },
 "nbformat": 4,
 "nbformat_minor": 2
}
